{
 "cells": [
  {
   "cell_type": "code",
   "execution_count": 1,
   "metadata": {},
   "outputs": [],
   "source": [
    "################ For testing purposes only ################\n",
    "import os\n",
    "\n",
    "try:\n",
    "    testMode\n",
    "except NameError:\n",
    "    testMode = False\n",
    "\n",
    "try:\n",
    "    alignmentJsonFile\n",
    "except NameError:\n",
    "    # NOTE: this is for a local example. Based on file placement, you may have to change this path\n",
    "    alignmentJsonFile = os.path.join(os.getcwd(), \"data/alignments.ga4gh.chr17.1-250.json\")\n",
    "\n",
    "\n",
    "try:\n",
    "    vcfFile\n",
    "except NameError:\n",
    "    # NOTE: this is for a local example. Based on file placement, you may have to change this path\n",
    "    vcfFile = './data/genodata.v3.vcf'\n",
    "\n",
    "try:\n",
    "    bedFile\n",
    "except NameError:\n",
    "    # NOTE: this is for a local example. Based on file placement, you may have to change this path\n",
    "    bedFile = os.path.join(os.getcwd(), \"../../example-files/chr17.582500-594500.bed\")"
   ]
  },
  {
   "cell_type": "markdown",
   "metadata": {},
   "source": [
    "# Tutorial for pileup widget\n",
    "\n",
    "This tutorial demonstrates how to use the [pileup.js](https://github.com/hammerlab/pileup.js) widget in a Jupyter notebook.\n"
   ]
  },
  {
   "cell_type": "code",
   "execution_count": 2,
   "metadata": {
    "scrolled": false
   },
   "outputs": [],
   "source": [
    "# imports \n",
    "import bdgenomics.mango.pileup as pileup\n",
    "from bdgenomics.mango.pileup.track import *\n",
    "import modin.pandas as pd\n"
   ]
  },
  {
   "cell_type": "code",
   "execution_count": 3,
   "metadata": {},
   "outputs": [
    {
     "name": "stdout",
     "output_type": "stream",
     "text": [
      "0.25.1\n",
      "/Users/Abhishek1Mahesh/Library/Python/3.7/lib/python/site-packages/pandas/__init__.py\n"
     ]
    }
   ],
   "source": [
    "import pandas\n",
    "\n",
    "print(pandas.__version__)\n",
    "print(pandas.__file__)"
   ]
  },
  {
   "cell_type": "markdown",
   "metadata": {},
   "source": [
    "## Pileup Example\n",
    "\n",
    "This example shows how to visualize alignments through a Jupyter widget."
   ]
  },
  {
   "cell_type": "code",
   "execution_count": 4,
   "metadata": {},
   "outputs": [
    {
     "name": "stderr",
     "output_type": "stream",
     "text": [
      "UserWarning: `read_json` only optimized with `lines=True` defaulting to pandas implementation.\n",
      "To request implementation, send an email to feature_requests@modin.org.\n",
      "UserWarning: `read_json` defaulting to pandas implementation.\n"
     ]
    }
   ],
   "source": [
    "# read in JSON\n",
    "readsJson = pd.read_json(alignmentJsonFile)"
   ]
  },
  {
   "cell_type": "code",
   "execution_count": 5,
   "metadata": {},
   "outputs": [
    {
     "name": "stderr",
     "output_type": "stream",
     "text": [
      "UserWarning: `DataFrame.to_json` defaulting to pandas implementation.\n"
     ]
    }
   ],
   "source": [
    "GA4GHAlignmentJson = readsJson.to_json()"
   ]
  },
  {
   "cell_type": "code",
   "execution_count": 6,
   "metadata": {},
   "outputs": [
    {
     "data": {
      "application/vnd.jupyter.widget-view+json": {
       "model_id": "ca20589355c144508d487bdbdd827b2f",
       "version_major": 2,
       "version_minor": 0
      },
      "text/plain": [
       "A Jupyter Widget"
      ]
     },
     "metadata": {},
     "output_type": "display_data"
    }
   ],
   "source": [
    "# make pileup track\n",
    "tracks=[Track(viz=\"pileup\", label=\"my Reads\", source=pileup.sources.GA4GHAlignmentJson(GA4GHAlignmentJson))]\n",
    "\n",
    "# render tracks in widget\n",
    "reads = pileup.PileupViewer(locus=\"chr17:1-100\", reference=\"hg19\", tracks=tracks)\n",
    "reads\n"
   ]
  },
  {
   "cell_type": "markdown",
   "metadata": {},
   "source": [
    "## Variant Example\n",
    "\n",
    "This example shows how to visualize variants through a Jupyter widget."
   ]
  },
  {
   "cell_type": "code",
   "execution_count": 7,
   "metadata": {},
   "outputs": [
    {
     "name": "stderr",
     "output_type": "stream",
     "text": [
      "UserWarning: skiprows parameter not optimized yet. defaulting to pandas implementation.\n",
      "UserWarning: User-defined function verification is still under development in Modin. The function provided is not verified.\n"
     ]
    },
    {
     "name": "stdout",
     "output_type": "stream",
     "text": [
      "\u001b[2m\u001b[36m(pid=9930)\u001b[0m 0.24.2\n",
      "\u001b[2m\u001b[36m(pid=9930)\u001b[0m /Library/Frameworks/Python.framework/Versions/3.7/lib/python3.7/site-packages/pandas/__init__.py\n",
      "\u001b[2m\u001b[36m(pid=9923)\u001b[0m 0.24.2\n",
      "\u001b[2m\u001b[36m(pid=9923)\u001b[0m /Library/Frameworks/Python.framework/Versions/3.7/lib/python3.7/site-packages/pandas/__init__.py\n",
      "\u001b[2m\u001b[36m(pid=9927)\u001b[0m 0.24.2\n",
      "\u001b[2m\u001b[36m(pid=9927)\u001b[0m /Library/Frameworks/Python.framework/Versions/3.7/lib/python3.7/site-packages/pandas/__init__.py\n",
      "\u001b[2m\u001b[36m(pid=9937)\u001b[0m 0.24.2\n",
      "\u001b[2m\u001b[36m(pid=9937)\u001b[0m /Library/Frameworks/Python.framework/Versions/3.7/lib/python3.7/site-packages/pandas/__init__.py\n",
      "\u001b[2m\u001b[36m(pid=9931)\u001b[0m 0.24.2\n",
      "\u001b[2m\u001b[36m(pid=9931)\u001b[0m /Library/Frameworks/Python.framework/Versions/3.7/lib/python3.7/site-packages/pandas/__init__.py\n",
      "\u001b[2m\u001b[36m(pid=9928)\u001b[0m 0.24.2\n",
      "\u001b[2m\u001b[36m(pid=9928)\u001b[0m /Library/Frameworks/Python.framework/Versions/3.7/lib/python3.7/site-packages/pandas/__init__.py\n",
      "\u001b[2m\u001b[36m(pid=9935)\u001b[0m 0.24.2\n",
      "\u001b[2m\u001b[36m(pid=9935)\u001b[0m /Library/Frameworks/Python.framework/Versions/3.7/lib/python3.7/site-packages/pandas/__init__.py\n",
      "\u001b[2m\u001b[36m(pid=9935)\u001b[0m 0.24.2\n",
      "\u001b[2m\u001b[36m(pid=9935)\u001b[0m /Library/Frameworks/Python.framework/Versions/3.7/lib/python3.7/site-packages/pandas/__init__.py\n",
      "\u001b[2m\u001b[36m(pid=9928)\u001b[0m 0.24.2\n",
      "\u001b[2m\u001b[36m(pid=9928)\u001b[0m /Library/Frameworks/Python.framework/Versions/3.7/lib/python3.7/site-packages/pandas/__init__.py\n",
      "\u001b[2m\u001b[36m(pid=9928)\u001b[0m 0.24.2\n",
      "\u001b[2m\u001b[36m(pid=9928)\u001b[0m /Library/Frameworks/Python.framework/Versions/3.7/lib/python3.7/site-packages/pandas/__init__.py\n",
      "\u001b[2m\u001b[36m(pid=9933)\u001b[0m 0.24.2\n",
      "\u001b[2m\u001b[36m(pid=9933)\u001b[0m /Library/Frameworks/Python.framework/Versions/3.7/lib/python3.7/site-packages/pandas/__init__.py\n",
      "\u001b[2m\u001b[36m(pid=9927)\u001b[0m 0.24.2\n",
      "\u001b[2m\u001b[36m(pid=9927)\u001b[0m /Library/Frameworks/Python.framework/Versions/3.7/lib/python3.7/site-packages/pandas/__init__.py\n",
      "\u001b[2m\u001b[36m(pid=9927)\u001b[0m 0.24.2\n",
      "\u001b[2m\u001b[36m(pid=9927)\u001b[0m /Library/Frameworks/Python.framework/Versions/3.7/lib/python3.7/site-packages/pandas/__init__.py\n",
      "\u001b[2m\u001b[36m(pid=9934)\u001b[0m 0.24.2\n",
      "\u001b[2m\u001b[36m(pid=9934)\u001b[0m /Library/Frameworks/Python.framework/Versions/3.7/lib/python3.7/site-packages/pandas/__init__.py\n",
      "\u001b[2m\u001b[36m(pid=9931)\u001b[0m 0.24.2\n",
      "\u001b[2m\u001b[36m(pid=9931)\u001b[0m /Library/Frameworks/Python.framework/Versions/3.7/lib/python3.7/site-packages/pandas/__init__.py\n",
      "\u001b[2m\u001b[36m(pid=9931)\u001b[0m 0.24.2\n",
      "\u001b[2m\u001b[36m(pid=9931)\u001b[0m /Library/Frameworks/Python.framework/Versions/3.7/lib/python3.7/site-packages/pandas/__init__.py\n"
     ]
    },
    {
     "ename": "RayTaskError",
     "evalue": "\u001b[36mray_worker:modin.engines.ray.pandas_on_ray.frame.partition.deploy_ray_func()\u001b[39m (pid=9934, host=[amahesh])\nray.exceptions.RayTaskError: \u001b[36mray_worker:modin.engines.ray.pandas_on_ray.frame.axis_partition.deploy_ray_func()\u001b[39m (pid=9930, host=[amahesh])\n  File \"pyarrow/serialization.pxi\", line 461, in pyarrow.lib.deserialize\n  File \"pyarrow/serialization.pxi\", line 424, in pyarrow.lib.deserialize_from\n  File \"pyarrow/serialization.pxi\", line 275, in pyarrow.lib.SerializedPyObject.deserialize\n  File \"pyarrow/serialization.pxi\", line 174, in pyarrow.lib.SerializationContext._deserialize_callback\n  File \"/Users/Abhishek1Mahesh/Desktop/rise_lab/mango/mango/mango-viz/bdgenomics/mango/io/__init__.py\", line 18, in <module>\n    from .readers import read_bed, read_vcf\n  File \"/Users/Abhishek1Mahesh/Desktop/rise_lab/mango/mango/mango-viz/bdgenomics/mango/io/readers.py\", line 18, in <module>\n    from .bedfile import BedFile\n  File \"/Users/Abhishek1Mahesh/Desktop/rise_lab/mango/mango/mango-viz/bdgenomics/mango/io/bedfile.py\", line 18, in <module>\n    from .genomicfile import GenomicFile\n  File \"/Users/Abhishek1Mahesh/Desktop/rise_lab/mango/mango/mango-viz/bdgenomics/mango/io/genomicfile.py\", line 19, in <module>\n    import modin.pandas as pd\n  File \"/Users/Abhishek1Mahesh/Desktop/rise_lab/modin/modin/pandas/__init__.py\", line 11, in <module>\n    \"Modin.\".format(__pandas_version__)\nImportError: The pandas version installed does not match the required pandas version in Modin. Please install pandas 0.25.1 to use Modin.\n\n",
     "output_type": "error",
     "traceback": [
      "\u001b[0;31m---------------------------------------------------------------------------\u001b[0m",
      "\u001b[0;31mRayTaskError\u001b[0m                              Traceback (most recent call last)",
      "\u001b[0;32m<ipython-input-7-ad622498aa76>\u001b[0m in \u001b[0;36m<module>\u001b[0;34m\u001b[0m\n\u001b[0;32m----> 1\u001b[0;31m \u001b[0mvariantData\u001b[0m \u001b[0;34m=\u001b[0m \u001b[0mread_vcf\u001b[0m\u001b[0;34m(\u001b[0m\u001b[0mvcfFile\u001b[0m\u001b[0;34m)\u001b[0m\u001b[0;34m\u001b[0m\u001b[0;34m\u001b[0m\u001b[0m\n\u001b[0m\u001b[1;32m      2\u001b[0m \u001b[0mvariantData\u001b[0m\u001b[0;34m.\u001b[0m\u001b[0mhead\u001b[0m\u001b[0;34m(\u001b[0m\u001b[0;34m)\u001b[0m\u001b[0;34m\u001b[0m\u001b[0;34m\u001b[0m\u001b[0m\n",
      "\u001b[0;32m~/Desktop/rise_lab/mango/mango/mango-viz/bdgenomics/mango/io/readers.py\u001b[0m in \u001b[0;36mread_vcf\u001b[0;34m(filepath_or_buffer)\u001b[0m\n\u001b[1;32m     29\u001b[0m \u001b[0;34m\u001b[0m\u001b[0m\n\u001b[1;32m     30\u001b[0m \u001b[0;32mdef\u001b[0m \u001b[0mread_vcf\u001b[0m\u001b[0;34m(\u001b[0m\u001b[0mfilepath_or_buffer\u001b[0m\u001b[0;34m)\u001b[0m\u001b[0;34m:\u001b[0m\u001b[0;34m\u001b[0m\u001b[0;34m\u001b[0m\u001b[0m\n\u001b[0;32m---> 31\u001b[0;31m     \u001b[0;32mreturn\u001b[0m \u001b[0mVCFFile\u001b[0m\u001b[0;34m.\u001b[0m\u001b[0mread\u001b[0m\u001b[0;34m(\u001b[0m\u001b[0mfilepath_or_buffer\u001b[0m\u001b[0;34m)\u001b[0m\u001b[0;34m\u001b[0m\u001b[0;34m\u001b[0m\u001b[0m\n\u001b[0m",
      "\u001b[0;32m~/Desktop/rise_lab/mango/mango/mango-viz/bdgenomics/mango/io/genomicfile.py\u001b[0m in \u001b[0;36mread\u001b[0;34m(cls, *args, **kwargs)\u001b[0m\n\u001b[1;32m     26\u001b[0m     \u001b[0;32mdef\u001b[0m \u001b[0mread\u001b[0m\u001b[0;34m(\u001b[0m\u001b[0mcls\u001b[0m\u001b[0;34m,\u001b[0m \u001b[0;34m*\u001b[0m\u001b[0margs\u001b[0m\u001b[0;34m,\u001b[0m \u001b[0;34m**\u001b[0m\u001b[0mkwargs\u001b[0m\u001b[0;34m)\u001b[0m\u001b[0;34m:\u001b[0m\u001b[0;34m\u001b[0m\u001b[0;34m\u001b[0m\u001b[0m\n\u001b[1;32m     27\u001b[0m         \u001b[0mdf\u001b[0m \u001b[0;34m=\u001b[0m \u001b[0mcls\u001b[0m\u001b[0;34m.\u001b[0m\u001b[0m_read\u001b[0m\u001b[0;34m(\u001b[0m\u001b[0;34m*\u001b[0m\u001b[0margs\u001b[0m\u001b[0;34m,\u001b[0m \u001b[0;34m**\u001b[0m\u001b[0mkwargs\u001b[0m\u001b[0;34m)\u001b[0m\u001b[0;34m\u001b[0m\u001b[0;34m\u001b[0m\u001b[0m\n\u001b[0;32m---> 28\u001b[0;31m         \u001b[0mdf\u001b[0m\u001b[0;34m.\u001b[0m\u001b[0m_mango_parse\u001b[0m \u001b[0;34m=\u001b[0m \u001b[0mcls\u001b[0m\u001b[0;34m.\u001b[0m\u001b[0m_parse\u001b[0m\u001b[0;34m(\u001b[0m\u001b[0mdf\u001b[0m\u001b[0;34m)\u001b[0m\u001b[0;34m\u001b[0m\u001b[0;34m\u001b[0m\u001b[0m\n\u001b[0m\u001b[1;32m     29\u001b[0m         \u001b[0mdf\u001b[0m\u001b[0;34m.\u001b[0m\u001b[0m_mango_to_json\u001b[0m \u001b[0;34m=\u001b[0m \u001b[0mcls\u001b[0m\u001b[0;34m.\u001b[0m\u001b[0m_to_json\u001b[0m\u001b[0;34m(\u001b[0m\u001b[0mdf\u001b[0m\u001b[0;34m)\u001b[0m\u001b[0;34m\u001b[0m\u001b[0;34m\u001b[0m\u001b[0m\n\u001b[1;32m     30\u001b[0m         \u001b[0mdf\u001b[0m\u001b[0;34m.\u001b[0m\u001b[0m_pileup_visualization\u001b[0m \u001b[0;34m=\u001b[0m \u001b[0mcls\u001b[0m\u001b[0;34m.\u001b[0m\u001b[0m_visualization\u001b[0m\u001b[0;34m(\u001b[0m\u001b[0mdf\u001b[0m\u001b[0;34m)\u001b[0m\u001b[0;34m\u001b[0m\u001b[0;34m\u001b[0m\u001b[0m\n",
      "\u001b[0;32m~/Desktop/rise_lab/mango/mango/mango-viz/bdgenomics/mango/io/VCFfile.py\u001b[0m in \u001b[0;36m_parse\u001b[0;34m(cls, df)\u001b[0m\n\u001b[1;32m     82\u001b[0m             \u001b[0mcontent\u001b[0m \u001b[0;34m=\u001b[0m \u001b[0;34m'\"referenceName\":\"{}\", \"start\":\"{}\", \"end\":\"{}\", \"referenceBases\":\"{}\", \"alternateBases\":\"{}\", \"id\":\"{}\", {}'\u001b[0m\u001b[0;34m.\u001b[0m\u001b[0mformat\u001b[0m\u001b[0;34m(\u001b[0m\u001b[0mstr\u001b[0m\u001b[0;34m(\u001b[0m\u001b[0mreference_name\u001b[0m\u001b[0;34m)\u001b[0m\u001b[0;34m,\u001b[0m \u001b[0mstr\u001b[0m\u001b[0;34m(\u001b[0m\u001b[0mstart\u001b[0m\u001b[0;34m)\u001b[0m\u001b[0;34m,\u001b[0m \u001b[0mstr\u001b[0m\u001b[0;34m(\u001b[0m\u001b[0mend\u001b[0m\u001b[0;34m)\u001b[0m\u001b[0;34m,\u001b[0m \u001b[0mstr\u001b[0m\u001b[0;34m(\u001b[0m\u001b[0mreference_bases\u001b[0m\u001b[0;34m)\u001b[0m\u001b[0;34m,\u001b[0m \u001b[0mstr\u001b[0m\u001b[0;34m(\u001b[0m\u001b[0malternate_bases\u001b[0m\u001b[0;34m)\u001b[0m\u001b[0;34m,\u001b[0m \u001b[0mstr\u001b[0m\u001b[0;34m(\u001b[0m\u001b[0mids\u001b[0m\u001b[0;34m)\u001b[0m\u001b[0;34m,\u001b[0m \u001b[0mcall_information\u001b[0m\u001b[0;34m)\u001b[0m\u001b[0;34m\u001b[0m\u001b[0;34m\u001b[0m\u001b[0m\n\u001b[1;32m     83\u001b[0m             \u001b[0;32mreturn\u001b[0m \u001b[0mcontent\u001b[0m\u001b[0;34m\u001b[0m\u001b[0;34m\u001b[0m\u001b[0m\n\u001b[0;32m---> 84\u001b[0;31m         \u001b[0;32mreturn\u001b[0m \u001b[0mdf\u001b[0m\u001b[0;34m.\u001b[0m\u001b[0mapply\u001b[0m\u001b[0;34m(\u001b[0m\u001b[0m_buildrow\u001b[0m\u001b[0;34m,\u001b[0m \u001b[0maxis\u001b[0m \u001b[0;34m=\u001b[0m \u001b[0;36m1\u001b[0m\u001b[0;34m)\u001b[0m\u001b[0;34m.\u001b[0m\u001b[0msqueeze\u001b[0m\u001b[0;34m(\u001b[0m\u001b[0;34m)\u001b[0m\u001b[0;34m\u001b[0m\u001b[0;34m\u001b[0m\u001b[0m\n\u001b[0m\u001b[1;32m     85\u001b[0m \u001b[0;34m\u001b[0m\u001b[0m\n\u001b[1;32m     86\u001b[0m     \u001b[0;34m@\u001b[0m\u001b[0mclassmethod\u001b[0m\u001b[0;34m\u001b[0m\u001b[0;34m\u001b[0m\u001b[0m\n",
      "\u001b[0;32m~/Desktop/rise_lab/modin/modin/pandas/dataframe.py\u001b[0m in \u001b[0;36mapply\u001b[0;34m(self, func, axis, broadcast, raw, reduce, result_type, convert_dtype, args, **kwds)\u001b[0m\n\u001b[1;32m    279\u001b[0m             \u001b[0mconvert_dtype\u001b[0m\u001b[0;34m=\u001b[0m\u001b[0mconvert_dtype\u001b[0m\u001b[0;34m,\u001b[0m\u001b[0;34m\u001b[0m\u001b[0;34m\u001b[0m\u001b[0m\n\u001b[1;32m    280\u001b[0m             \u001b[0margs\u001b[0m\u001b[0;34m=\u001b[0m\u001b[0margs\u001b[0m\u001b[0;34m,\u001b[0m\u001b[0;34m\u001b[0m\u001b[0;34m\u001b[0m\u001b[0m\n\u001b[0;32m--> 281\u001b[0;31m             \u001b[0;34m**\u001b[0m\u001b[0mkwds\u001b[0m\u001b[0;34m\u001b[0m\u001b[0;34m\u001b[0m\u001b[0m\n\u001b[0m\u001b[1;32m    282\u001b[0m         )\n\u001b[1;32m    283\u001b[0m         \u001b[0;32mif\u001b[0m \u001b[0;32mnot\u001b[0m \u001b[0misinstance\u001b[0m\u001b[0;34m(\u001b[0m\u001b[0mquery_compiler\u001b[0m\u001b[0;34m,\u001b[0m \u001b[0mtype\u001b[0m\u001b[0;34m(\u001b[0m\u001b[0mself\u001b[0m\u001b[0;34m.\u001b[0m\u001b[0m_query_compiler\u001b[0m\u001b[0;34m)\u001b[0m\u001b[0;34m)\u001b[0m\u001b[0;34m:\u001b[0m\u001b[0;34m\u001b[0m\u001b[0;34m\u001b[0m\u001b[0m\n",
      "\u001b[0;32m~/Desktop/rise_lab/modin/modin/pandas/base.py\u001b[0m in \u001b[0;36mapply\u001b[0;34m(self, func, axis, broadcast, raw, reduce, result_type, convert_dtype, args, **kwds)\u001b[0m\n\u001b[1;32m    518\u001b[0m         \u001b[0;32melif\u001b[0m \u001b[0;32mnot\u001b[0m \u001b[0mcallable\u001b[0m\u001b[0;34m(\u001b[0m\u001b[0mfunc\u001b[0m\u001b[0;34m)\u001b[0m \u001b[0;32mand\u001b[0m \u001b[0;32mnot\u001b[0m \u001b[0mis_list_like\u001b[0m\u001b[0;34m(\u001b[0m\u001b[0mfunc\u001b[0m\u001b[0;34m)\u001b[0m\u001b[0;34m:\u001b[0m\u001b[0;34m\u001b[0m\u001b[0;34m\u001b[0m\u001b[0m\n\u001b[1;32m    519\u001b[0m             \u001b[0;32mraise\u001b[0m \u001b[0mTypeError\u001b[0m\u001b[0;34m(\u001b[0m\u001b[0;34m\"{} object is not callable\"\u001b[0m\u001b[0;34m.\u001b[0m\u001b[0mformat\u001b[0m\u001b[0;34m(\u001b[0m\u001b[0mtype\u001b[0m\u001b[0;34m(\u001b[0m\u001b[0mfunc\u001b[0m\u001b[0;34m)\u001b[0m\u001b[0;34m)\u001b[0m\u001b[0;34m)\u001b[0m\u001b[0;34m\u001b[0m\u001b[0;34m\u001b[0m\u001b[0m\n\u001b[0;32m--> 520\u001b[0;31m         \u001b[0mquery_compiler\u001b[0m \u001b[0;34m=\u001b[0m \u001b[0mself\u001b[0m\u001b[0;34m.\u001b[0m\u001b[0m_query_compiler\u001b[0m\u001b[0;34m.\u001b[0m\u001b[0mapply\u001b[0m\u001b[0;34m(\u001b[0m\u001b[0mfunc\u001b[0m\u001b[0;34m,\u001b[0m \u001b[0maxis\u001b[0m\u001b[0;34m,\u001b[0m \u001b[0;34m*\u001b[0m\u001b[0margs\u001b[0m\u001b[0;34m,\u001b[0m \u001b[0;34m**\u001b[0m\u001b[0mkwds\u001b[0m\u001b[0;34m)\u001b[0m\u001b[0;34m\u001b[0m\u001b[0;34m\u001b[0m\u001b[0m\n\u001b[0m\u001b[1;32m    521\u001b[0m         \u001b[0;32mreturn\u001b[0m \u001b[0mquery_compiler\u001b[0m\u001b[0;34m\u001b[0m\u001b[0;34m\u001b[0m\u001b[0m\n\u001b[1;32m    522\u001b[0m \u001b[0;34m\u001b[0m\u001b[0m\n",
      "\u001b[0;32m~/Desktop/rise_lab/modin/modin/backends/pandas/query_compiler.py\u001b[0m in \u001b[0;36mapply\u001b[0;34m(self, func, axis, *args, **kwargs)\u001b[0m\n\u001b[1;32m   1034\u001b[0m         \"\"\"\n\u001b[1;32m   1035\u001b[0m         \u001b[0;32mif\u001b[0m \u001b[0mcallable\u001b[0m\u001b[0;34m(\u001b[0m\u001b[0mfunc\u001b[0m\u001b[0;34m)\u001b[0m\u001b[0;34m:\u001b[0m\u001b[0;34m\u001b[0m\u001b[0;34m\u001b[0m\u001b[0m\n\u001b[0;32m-> 1036\u001b[0;31m             \u001b[0;32mreturn\u001b[0m \u001b[0mself\u001b[0m\u001b[0;34m.\u001b[0m\u001b[0m_callable_func\u001b[0m\u001b[0;34m(\u001b[0m\u001b[0mfunc\u001b[0m\u001b[0;34m,\u001b[0m \u001b[0maxis\u001b[0m\u001b[0;34m,\u001b[0m \u001b[0;34m*\u001b[0m\u001b[0margs\u001b[0m\u001b[0;34m,\u001b[0m \u001b[0;34m**\u001b[0m\u001b[0mkwargs\u001b[0m\u001b[0;34m)\u001b[0m\u001b[0;34m\u001b[0m\u001b[0;34m\u001b[0m\u001b[0m\n\u001b[0m\u001b[1;32m   1037\u001b[0m         \u001b[0;32melif\u001b[0m \u001b[0misinstance\u001b[0m\u001b[0;34m(\u001b[0m\u001b[0mfunc\u001b[0m\u001b[0;34m,\u001b[0m \u001b[0mdict\u001b[0m\u001b[0;34m)\u001b[0m\u001b[0;34m:\u001b[0m\u001b[0;34m\u001b[0m\u001b[0;34m\u001b[0m\u001b[0m\n\u001b[1;32m   1038\u001b[0m             \u001b[0;32mreturn\u001b[0m \u001b[0mself\u001b[0m\u001b[0;34m.\u001b[0m\u001b[0m_dict_func\u001b[0m\u001b[0;34m(\u001b[0m\u001b[0mfunc\u001b[0m\u001b[0;34m,\u001b[0m \u001b[0maxis\u001b[0m\u001b[0;34m,\u001b[0m \u001b[0;34m*\u001b[0m\u001b[0margs\u001b[0m\u001b[0;34m,\u001b[0m \u001b[0;34m**\u001b[0m\u001b[0mkwargs\u001b[0m\u001b[0;34m)\u001b[0m\u001b[0;34m\u001b[0m\u001b[0;34m\u001b[0m\u001b[0m\n",
      "\u001b[0;32m~/Desktop/rise_lab/modin/modin/backends/pandas/query_compiler.py\u001b[0m in \u001b[0;36m_callable_func\u001b[0;34m(self, func, axis, *args, **kwargs)\u001b[0m\n\u001b[1;32m   1111\u001b[0m         \u001b[0;32melse\u001b[0m\u001b[0;34m:\u001b[0m\u001b[0;34m\u001b[0m\u001b[0;34m\u001b[0m\u001b[0m\n\u001b[1;32m   1112\u001b[0m             new_modin_frame = self._modin_frame._apply_full_axis(\n\u001b[0;32m-> 1113\u001b[0;31m                 \u001b[0maxis\u001b[0m\u001b[0;34m,\u001b[0m \u001b[0;32mlambda\u001b[0m \u001b[0mdf\u001b[0m\u001b[0;34m:\u001b[0m \u001b[0mdf\u001b[0m\u001b[0;34m.\u001b[0m\u001b[0mapply\u001b[0m\u001b[0;34m(\u001b[0m\u001b[0mfunc\u001b[0m\u001b[0;34m,\u001b[0m \u001b[0maxis\u001b[0m\u001b[0;34m=\u001b[0m\u001b[0maxis\u001b[0m\u001b[0;34m,\u001b[0m \u001b[0;34m*\u001b[0m\u001b[0margs\u001b[0m\u001b[0;34m,\u001b[0m \u001b[0;34m**\u001b[0m\u001b[0mkwargs\u001b[0m\u001b[0;34m)\u001b[0m\u001b[0;34m\u001b[0m\u001b[0;34m\u001b[0m\u001b[0m\n\u001b[0m\u001b[1;32m   1114\u001b[0m             )\n\u001b[1;32m   1115\u001b[0m         \u001b[0;32mreturn\u001b[0m \u001b[0mself\u001b[0m\u001b[0;34m.\u001b[0m\u001b[0m__constructor__\u001b[0m\u001b[0;34m(\u001b[0m\u001b[0mnew_modin_frame\u001b[0m\u001b[0;34m)\u001b[0m\u001b[0;34m\u001b[0m\u001b[0;34m\u001b[0m\u001b[0m\n",
      "\u001b[0;32m~/Desktop/rise_lab/modin/modin/engines/base/frame/data.py\u001b[0m in \u001b[0;36m_apply_full_axis\u001b[0;34m(self, axis, func, new_index, new_columns, dtypes)\u001b[0m\n\u001b[1;32m    845\u001b[0m         \u001b[0;32mif\u001b[0m \u001b[0mnew_columns\u001b[0m \u001b[0;32mis\u001b[0m \u001b[0;32mNone\u001b[0m\u001b[0;34m:\u001b[0m\u001b[0;34m\u001b[0m\u001b[0;34m\u001b[0m\u001b[0m\n\u001b[1;32m    846\u001b[0m             new_columns = self._frame_mgr_cls.get_indices(\n\u001b[0;32m--> 847\u001b[0;31m                 \u001b[0;36m1\u001b[0m\u001b[0;34m,\u001b[0m \u001b[0mnew_partitions\u001b[0m\u001b[0;34m,\u001b[0m \u001b[0;32mlambda\u001b[0m \u001b[0mdf\u001b[0m\u001b[0;34m:\u001b[0m \u001b[0mdf\u001b[0m\u001b[0;34m.\u001b[0m\u001b[0mcolumns\u001b[0m\u001b[0;34m\u001b[0m\u001b[0;34m\u001b[0m\u001b[0m\n\u001b[0m\u001b[1;32m    848\u001b[0m             )\n\u001b[1;32m    849\u001b[0m         \u001b[0;32mif\u001b[0m \u001b[0mnew_index\u001b[0m \u001b[0;32mis\u001b[0m \u001b[0;32mNone\u001b[0m\u001b[0;34m:\u001b[0m\u001b[0;34m\u001b[0m\u001b[0;34m\u001b[0m\u001b[0m\n",
      "\u001b[0;32m~/Desktop/rise_lab/modin/modin/engines/ray/pandas_on_ray/frame/partition_manager.py\u001b[0m in \u001b[0;36mget_indices\u001b[0;34m(cls, axis, partitions, index_func)\u001b[0m\n\u001b[1;32m     54\u001b[0m                 \u001b[0;32melse\u001b[0m \u001b[0;34m[\u001b[0m\u001b[0;34m]\u001b[0m\u001b[0;34m\u001b[0m\u001b[0;34m\u001b[0m\u001b[0m\n\u001b[1;32m     55\u001b[0m             )\n\u001b[0;32m---> 56\u001b[0;31m         \u001b[0mnew_idx\u001b[0m \u001b[0;34m=\u001b[0m \u001b[0mray\u001b[0m\u001b[0;34m.\u001b[0m\u001b[0mget\u001b[0m\u001b[0;34m(\u001b[0m\u001b[0mnew_idx\u001b[0m\u001b[0;34m)\u001b[0m\u001b[0;34m\u001b[0m\u001b[0;34m\u001b[0m\u001b[0m\n\u001b[0m\u001b[1;32m     57\u001b[0m         \u001b[0;32mreturn\u001b[0m \u001b[0mnew_idx\u001b[0m\u001b[0;34m[\u001b[0m\u001b[0;36m0\u001b[0m\u001b[0;34m]\u001b[0m\u001b[0;34m.\u001b[0m\u001b[0mappend\u001b[0m\u001b[0;34m(\u001b[0m\u001b[0mnew_idx\u001b[0m\u001b[0;34m[\u001b[0m\u001b[0;36m1\u001b[0m\u001b[0;34m:\u001b[0m\u001b[0;34m]\u001b[0m\u001b[0;34m)\u001b[0m \u001b[0;32mif\u001b[0m \u001b[0mlen\u001b[0m\u001b[0;34m(\u001b[0m\u001b[0mnew_idx\u001b[0m\u001b[0;34m)\u001b[0m \u001b[0;32melse\u001b[0m \u001b[0mnew_idx\u001b[0m\u001b[0;34m\u001b[0m\u001b[0;34m\u001b[0m\u001b[0m\n\u001b[1;32m     58\u001b[0m \u001b[0;34m\u001b[0m\u001b[0m\n",
      "\u001b[0;32m~/Library/Python/3.7/lib/python/site-packages/ray/worker.py\u001b[0m in \u001b[0;36mget\u001b[0;34m(object_ids)\u001b[0m\n\u001b[1;32m   2245\u001b[0m             \u001b[0;32mif\u001b[0m \u001b[0misinstance\u001b[0m\u001b[0;34m(\u001b[0m\u001b[0mvalue\u001b[0m\u001b[0;34m,\u001b[0m \u001b[0mRayError\u001b[0m\u001b[0;34m)\u001b[0m\u001b[0;34m:\u001b[0m\u001b[0;34m\u001b[0m\u001b[0;34m\u001b[0m\u001b[0m\n\u001b[1;32m   2246\u001b[0m                 \u001b[0mlast_task_error_raise_time\u001b[0m \u001b[0;34m=\u001b[0m \u001b[0mtime\u001b[0m\u001b[0;34m.\u001b[0m\u001b[0mtime\u001b[0m\u001b[0;34m(\u001b[0m\u001b[0;34m)\u001b[0m\u001b[0;34m\u001b[0m\u001b[0;34m\u001b[0m\u001b[0m\n\u001b[0;32m-> 2247\u001b[0;31m                 \u001b[0;32mraise\u001b[0m \u001b[0mvalue\u001b[0m\u001b[0;34m\u001b[0m\u001b[0;34m\u001b[0m\u001b[0m\n\u001b[0m\u001b[1;32m   2248\u001b[0m \u001b[0;34m\u001b[0m\u001b[0m\n\u001b[1;32m   2249\u001b[0m         \u001b[0;31m# Run post processors.\u001b[0m\u001b[0;34m\u001b[0m\u001b[0;34m\u001b[0m\u001b[0;34m\u001b[0m\u001b[0m\n",
      "\u001b[0;31mRayTaskError\u001b[0m: \u001b[36mray_worker:modin.engines.ray.pandas_on_ray.frame.partition.deploy_ray_func()\u001b[39m (pid=9934, host=[amahesh])\nray.exceptions.RayTaskError: \u001b[36mray_worker:modin.engines.ray.pandas_on_ray.frame.axis_partition.deploy_ray_func()\u001b[39m (pid=9930, host=[amahesh])\n  File \"pyarrow/serialization.pxi\", line 461, in pyarrow.lib.deserialize\n  File \"pyarrow/serialization.pxi\", line 424, in pyarrow.lib.deserialize_from\n  File \"pyarrow/serialization.pxi\", line 275, in pyarrow.lib.SerializedPyObject.deserialize\n  File \"pyarrow/serialization.pxi\", line 174, in pyarrow.lib.SerializationContext._deserialize_callback\n  File \"/Users/Abhishek1Mahesh/Desktop/rise_lab/mango/mango/mango-viz/bdgenomics/mango/io/__init__.py\", line 18, in <module>\n    from .readers import read_bed, read_vcf\n  File \"/Users/Abhishek1Mahesh/Desktop/rise_lab/mango/mango/mango-viz/bdgenomics/mango/io/readers.py\", line 18, in <module>\n    from .bedfile import BedFile\n  File \"/Users/Abhishek1Mahesh/Desktop/rise_lab/mango/mango/mango-viz/bdgenomics/mango/io/bedfile.py\", line 18, in <module>\n    from .genomicfile import GenomicFile\n  File \"/Users/Abhishek1Mahesh/Desktop/rise_lab/mango/mango/mango-viz/bdgenomics/mango/io/genomicfile.py\", line 19, in <module>\n    import modin.pandas as pd\n  File \"/Users/Abhishek1Mahesh/Desktop/rise_lab/modin/modin/pandas/__init__.py\", line 11, in <module>\n    \"Modin.\".format(__pandas_version__)\nImportError: The pandas version installed does not match the required pandas version in Modin. Please install pandas 0.25.1 to use Modin.\n\n"
     ]
    }
   ],
   "source": [
    "variantData = read_vcf(vcfFile)\n",
    "variantData.head()"
   ]
  },
  {
   "cell_type": "code",
   "execution_count": 8,
   "metadata": {
    "scrolled": false
   },
   "outputs": [
    {
     "ename": "AttributeError",
     "evalue": "'str' object has no attribute '_mango_to_json'",
     "output_type": "error",
     "traceback": [
      "\u001b[0;31m---------------------------------------------------------------------------\u001b[0m",
      "\u001b[0;31mAttributeError\u001b[0m                            Traceback (most recent call last)",
      "\u001b[0;32m<ipython-input-8-7db9d6ad9930>\u001b[0m in \u001b[0;36m<module>\u001b[0;34m\u001b[0m\n\u001b[1;32m      1\u001b[0m \u001b[0;31m# make variant track\u001b[0m\u001b[0;34m\u001b[0m\u001b[0;34m\u001b[0m\u001b[0;34m\u001b[0m\u001b[0m\n\u001b[0;32m----> 2\u001b[0;31m \u001b[0mtracks\u001b[0m\u001b[0;34m=\u001b[0m\u001b[0;34m[\u001b[0m\u001b[0mTrack\u001b[0m\u001b[0;34m(\u001b[0m\u001b[0mviz\u001b[0m\u001b[0;34m=\u001b[0m\u001b[0;34m\"variants\"\u001b[0m\u001b[0;34m,\u001b[0m \u001b[0mlabel\u001b[0m\u001b[0;34m=\u001b[0m\u001b[0;34m\"my Variants\"\u001b[0m\u001b[0;34m,\u001b[0m \u001b[0msource\u001b[0m\u001b[0;34m=\u001b[0m\u001b[0mpileup\u001b[0m\u001b[0;34m.\u001b[0m\u001b[0msources\u001b[0m\u001b[0;34m.\u001b[0m\u001b[0mDataFrameSource\u001b[0m\u001b[0;34m(\u001b[0m\u001b[0mvcfFile\u001b[0m\u001b[0;34m)\u001b[0m\u001b[0;34m)\u001b[0m\u001b[0;34m]\u001b[0m\u001b[0;34m\u001b[0m\u001b[0;34m\u001b[0m\u001b[0m\n\u001b[0m\u001b[1;32m      3\u001b[0m \u001b[0;34m\u001b[0m\u001b[0m\n\u001b[1;32m      4\u001b[0m \u001b[0;31m# render tracks in widget\u001b[0m\u001b[0;34m\u001b[0m\u001b[0;34m\u001b[0m\u001b[0;34m\u001b[0m\u001b[0m\n\u001b[1;32m      5\u001b[0m \u001b[0mvariants\u001b[0m \u001b[0;34m=\u001b[0m \u001b[0mpileup\u001b[0m\u001b[0;34m.\u001b[0m\u001b[0mPileupViewer\u001b[0m\u001b[0;34m(\u001b[0m\u001b[0mlocus\u001b[0m\u001b[0;34m=\u001b[0m\u001b[0;34m\"chr1:10436-10564\"\u001b[0m\u001b[0;34m,\u001b[0m \u001b[0mreference\u001b[0m\u001b[0;34m=\u001b[0m\u001b[0;34m\"hg19\"\u001b[0m\u001b[0;34m,\u001b[0m \u001b[0mtracks\u001b[0m\u001b[0;34m=\u001b[0m\u001b[0mtracks\u001b[0m\u001b[0;34m)\u001b[0m\u001b[0;34m\u001b[0m\u001b[0;34m\u001b[0m\u001b[0m\n",
      "\u001b[0;32m~/Desktop/rise_lab/mango/mango/mango-viz/bdgenomics/mango/pileup/sources.py\u001b[0m in \u001b[0;36m__init__\u001b[0;34m(self, dataframe)\u001b[0m\n\u001b[1;32m     89\u001b[0m             \u001b[0;34m:\u001b[0m\u001b[0mparam\u001b[0m \u001b[0mdataframe\u001b[0m\u001b[0;34m:\u001b[0m \u001b[0mdataframe\u001b[0m\u001b[0;34m\u001b[0m\u001b[0;34m\u001b[0m\u001b[0m\n\u001b[1;32m     90\u001b[0m         \"\"\"\n\u001b[0;32m---> 91\u001b[0;31m         \u001b[0mfeature_transformed_json\u001b[0m \u001b[0;34m=\u001b[0m \u001b[0mdataframe\u001b[0m\u001b[0;34m.\u001b[0m\u001b[0m_mango_to_json\u001b[0m\u001b[0;34m\u001b[0m\u001b[0;34m\u001b[0m\u001b[0m\n\u001b[0m\u001b[1;32m     92\u001b[0m         \u001b[0mself\u001b[0m\u001b[0;34m.\u001b[0m\u001b[0mdict_\u001b[0m \u001b[0;34m=\u001b[0m \u001b[0mfeature_transformed_json\u001b[0m\u001b[0;34m\u001b[0m\u001b[0;34m\u001b[0m\u001b[0m\n\u001b[1;32m     93\u001b[0m \u001b[0;34m\u001b[0m\u001b[0m\n",
      "\u001b[0;31mAttributeError\u001b[0m: 'str' object has no attribute '_mango_to_json'"
     ]
    }
   ],
   "source": [
    "# make variant track\n",
    "tracks=[Track(viz=\"variants\", label=\"my Variants\", source=pileup.sources.DataFrameSource(vcfFile))]\n",
    "\n",
    "# render tracks in widget\n",
    "variants = pileup.PileupViewer(locus=\"chr1:10436-10564\", reference=\"hg19\", tracks=tracks)\n",
    "variants"
   ]
  },
  {
   "cell_type": "markdown",
   "metadata": {},
   "source": [
    "## Feature Example\n",
    "\n",
    "This example shows how to visualize features through a Jupyter widget."
   ]
  },
  {
   "cell_type": "code",
   "execution_count": 9,
   "metadata": {},
   "outputs": [
    {
     "data": {
      "text/html": [
       "<div>\n",
       "<style scoped>\n",
       "    .dataframe tbody tr th:only-of-type {\n",
       "        vertical-align: middle;\n",
       "    }\n",
       "\n",
       "    .dataframe tbody tr th {\n",
       "        vertical-align: top;\n",
       "    }\n",
       "\n",
       "    .dataframe thead th {\n",
       "        text-align: right;\n",
       "    }\n",
       "</style>\n",
       "<table border=\"1\" class=\"dataframe\">\n",
       "  <thead>\n",
       "    <tr style=\"text-align: right;\">\n",
       "      <th></th>\n",
       "      <th>chrom</th>\n",
       "      <th>chromStart</th>\n",
       "      <th>chromEnd</th>\n",
       "      <th>name</th>\n",
       "      <th>score</th>\n",
       "      <th>strand</th>\n",
       "      <th>thickStart</th>\n",
       "      <th>thickEnd</th>\n",
       "      <th>itemRGB</th>\n",
       "      <th>blockCount</th>\n",
       "      <th>blockSizes</th>\n",
       "      <th>blockStarts</th>\n",
       "    </tr>\n",
       "  </thead>\n",
       "  <tbody>\n",
       "    <tr>\n",
       "      <td>0</td>\n",
       "      <td>chr17</td>\n",
       "      <td>5821</td>\n",
       "      <td>31270</td>\n",
       "      <td>NaN</td>\n",
       "      <td>NaN</td>\n",
       "      <td>NaN</td>\n",
       "      <td>NaN</td>\n",
       "      <td>NaN</td>\n",
       "      <td>NaN</td>\n",
       "      <td>NaN</td>\n",
       "      <td>NaN</td>\n",
       "      <td>NaN</td>\n",
       "    </tr>\n",
       "    <tr>\n",
       "      <td>1</td>\n",
       "      <td>chr17</td>\n",
       "      <td>62296</td>\n",
       "      <td>202576</td>\n",
       "      <td>NaN</td>\n",
       "      <td>NaN</td>\n",
       "      <td>NaN</td>\n",
       "      <td>NaN</td>\n",
       "      <td>NaN</td>\n",
       "      <td>NaN</td>\n",
       "      <td>NaN</td>\n",
       "      <td>NaN</td>\n",
       "      <td>NaN</td>\n",
       "    </tr>\n",
       "    <tr>\n",
       "      <td>2</td>\n",
       "      <td>chr17</td>\n",
       "      <td>62296</td>\n",
       "      <td>202576</td>\n",
       "      <td>NaN</td>\n",
       "      <td>NaN</td>\n",
       "      <td>NaN</td>\n",
       "      <td>NaN</td>\n",
       "      <td>NaN</td>\n",
       "      <td>NaN</td>\n",
       "      <td>NaN</td>\n",
       "      <td>NaN</td>\n",
       "      <td>NaN</td>\n",
       "    </tr>\n",
       "    <tr>\n",
       "      <td>3</td>\n",
       "      <td>chr17</td>\n",
       "      <td>260433</td>\n",
       "      <td>264713</td>\n",
       "      <td>NaN</td>\n",
       "      <td>NaN</td>\n",
       "      <td>NaN</td>\n",
       "      <td>NaN</td>\n",
       "      <td>NaN</td>\n",
       "      <td>NaN</td>\n",
       "      <td>NaN</td>\n",
       "      <td>NaN</td>\n",
       "      <td>NaN</td>\n",
       "    </tr>\n",
       "    <tr>\n",
       "      <td>4</td>\n",
       "      <td>chr17</td>\n",
       "      <td>290007</td>\n",
       "      <td>295959</td>\n",
       "      <td>NaN</td>\n",
       "      <td>NaN</td>\n",
       "      <td>NaN</td>\n",
       "      <td>NaN</td>\n",
       "      <td>NaN</td>\n",
       "      <td>NaN</td>\n",
       "      <td>NaN</td>\n",
       "      <td>NaN</td>\n",
       "      <td>NaN</td>\n",
       "    </tr>\n",
       "  </tbody>\n",
       "</table>\n",
       "</div>"
      ],
      "text/plain": [
       "   chrom  chromStart  chromEnd  name  score  strand  thickStart  thickEnd  \\\n",
       "0  chr17        5821     31270   NaN    NaN     NaN         NaN       NaN   \n",
       "1  chr17       62296    202576   NaN    NaN     NaN         NaN       NaN   \n",
       "2  chr17       62296    202576   NaN    NaN     NaN         NaN       NaN   \n",
       "3  chr17      260433    264713   NaN    NaN     NaN         NaN       NaN   \n",
       "4  chr17      290007    295959   NaN    NaN     NaN         NaN       NaN   \n",
       "\n",
       "   itemRGB  blockCount  blockSizes  blockStarts  \n",
       "0      NaN         NaN         NaN          NaN  \n",
       "1      NaN         NaN         NaN          NaN  \n",
       "2      NaN         NaN         NaN          NaN  \n",
       "3      NaN         NaN         NaN          NaN  \n",
       "4      NaN         NaN         NaN          NaN  "
      ]
     },
     "execution_count": 9,
     "metadata": {},
     "output_type": "execute_result"
    }
   ],
   "source": [
    "featuresData = read_bed(bedFile)\n",
    "featuresData.head()"
   ]
  },
  {
   "cell_type": "code",
   "execution_count": 10,
   "metadata": {
    "scrolled": false
   },
   "outputs": [
    {
     "data": {
      "application/vnd.jupyter.widget-view+json": {
       "model_id": "c5583600adb44af4b7a29bd3c119c832",
       "version_major": 2,
       "version_minor": 0
      },
      "text/plain": [
       "A Jupyter Widget"
      ]
     },
     "metadata": {},
     "output_type": "display_data"
    }
   ],
   "source": [
    "# make feature track\n",
    "tracks=[Track(viz=\"features\", label=\"my features\", source=pileup.sources.DataFrameSource(featuresData))]\n",
    "\n",
    "features = pileup.PileupViewer(locus=\"chr17:167398-461054\", reference=\"hg19\", tracks=tracks)\n",
    "features"
   ]
  },
  {
   "cell_type": "markdown",
   "metadata": {
    "collapsed": true
   },
   "source": [
    "## Genotype Example\n",
    "\n",
    "This example shows how to visualize genotypes through a Jupyter widget."
   ]
  },
  {
   "cell_type": "code",
   "execution_count": 9,
   "metadata": {},
   "outputs": [
    {
     "ename": "AttributeError",
     "evalue": "'str' object has no attribute '_mango_to_json'",
     "output_type": "error",
     "traceback": [
      "\u001b[0;31m---------------------------------------------------------------------------\u001b[0m",
      "\u001b[0;31mAttributeError\u001b[0m                            Traceback (most recent call last)",
      "\u001b[0;32m<ipython-input-9-c2df0339def8>\u001b[0m in \u001b[0;36m<module>\u001b[0;34m\u001b[0m\n\u001b[1;32m      1\u001b[0m \u001b[0;31m# make genotype track\u001b[0m\u001b[0;34m\u001b[0m\u001b[0;34m\u001b[0m\u001b[0;34m\u001b[0m\u001b[0m\n\u001b[0;32m----> 2\u001b[0;31m \u001b[0mtracks\u001b[0m\u001b[0;34m=\u001b[0m\u001b[0;34m[\u001b[0m\u001b[0mTrack\u001b[0m\u001b[0;34m(\u001b[0m\u001b[0mviz\u001b[0m\u001b[0;34m=\u001b[0m\u001b[0;34m\"genotypes\"\u001b[0m\u001b[0;34m,\u001b[0m \u001b[0mlabel\u001b[0m\u001b[0;34m=\u001b[0m\u001b[0;34m\"my Genotypes\"\u001b[0m\u001b[0;34m,\u001b[0m \u001b[0msource\u001b[0m\u001b[0;34m=\u001b[0m\u001b[0mpileup\u001b[0m\u001b[0;34m.\u001b[0m\u001b[0msources\u001b[0m\u001b[0;34m.\u001b[0m\u001b[0mDataFrameSource\u001b[0m\u001b[0;34m(\u001b[0m\u001b[0mvcfFile\u001b[0m\u001b[0;34m)\u001b[0m\u001b[0;34m)\u001b[0m\u001b[0;34m]\u001b[0m\u001b[0;34m\u001b[0m\u001b[0;34m\u001b[0m\u001b[0m\n\u001b[0m\u001b[1;32m      3\u001b[0m \u001b[0;34m\u001b[0m\u001b[0m\n\u001b[1;32m      4\u001b[0m \u001b[0;31m# render tracks in widget\u001b[0m\u001b[0;34m\u001b[0m\u001b[0;34m\u001b[0m\u001b[0;34m\u001b[0m\u001b[0m\n\u001b[1;32m      5\u001b[0m \u001b[0mgenotypes\u001b[0m \u001b[0;34m=\u001b[0m \u001b[0mpileup\u001b[0m\u001b[0;34m.\u001b[0m\u001b[0mPileupViewer\u001b[0m\u001b[0;34m(\u001b[0m\u001b[0mlocus\u001b[0m\u001b[0;34m=\u001b[0m\u001b[0;34m\"chr22:21340030-21340150\"\u001b[0m\u001b[0;34m,\u001b[0m \u001b[0mreference\u001b[0m\u001b[0;34m=\u001b[0m\u001b[0;34m\"hg19\"\u001b[0m\u001b[0;34m,\u001b[0m \u001b[0mtracks\u001b[0m\u001b[0;34m=\u001b[0m\u001b[0mtracks\u001b[0m\u001b[0;34m)\u001b[0m\u001b[0;34m\u001b[0m\u001b[0;34m\u001b[0m\u001b[0m\n",
      "\u001b[0;32m~/Desktop/rise_lab/mango/mango/mango-viz/bdgenomics/mango/pileup/sources.py\u001b[0m in \u001b[0;36m__init__\u001b[0;34m(self, dataframe)\u001b[0m\n\u001b[1;32m     89\u001b[0m             \u001b[0;34m:\u001b[0m\u001b[0mparam\u001b[0m \u001b[0mdataframe\u001b[0m\u001b[0;34m:\u001b[0m \u001b[0mdataframe\u001b[0m\u001b[0;34m\u001b[0m\u001b[0;34m\u001b[0m\u001b[0m\n\u001b[1;32m     90\u001b[0m         \"\"\"\n\u001b[0;32m---> 91\u001b[0;31m         \u001b[0mfeature_transformed_json\u001b[0m \u001b[0;34m=\u001b[0m \u001b[0mdataframe\u001b[0m\u001b[0;34m.\u001b[0m\u001b[0m_mango_to_json\u001b[0m\u001b[0;34m\u001b[0m\u001b[0;34m\u001b[0m\u001b[0m\n\u001b[0m\u001b[1;32m     92\u001b[0m         \u001b[0mself\u001b[0m\u001b[0;34m.\u001b[0m\u001b[0mdict_\u001b[0m \u001b[0;34m=\u001b[0m \u001b[0mfeature_transformed_json\u001b[0m\u001b[0;34m\u001b[0m\u001b[0;34m\u001b[0m\u001b[0m\n\u001b[1;32m     93\u001b[0m \u001b[0;34m\u001b[0m\u001b[0m\n",
      "\u001b[0;31mAttributeError\u001b[0m: 'str' object has no attribute '_mango_to_json'"
     ]
    }
   ],
   "source": [
    "# make genotype track\n",
    "tracks=[Track(viz=\"genotypes\", label=\"my Genotypes\", source=pileup.sources.DataFrameSource(vcfFile))]\n",
    "\n",
    "# render tracks in widget\n",
    "genotypes = pileup.PileupViewer(locus=\"chr22:21340030-21340150\", reference=\"hg19\", tracks=tracks)\n",
    "genotypes"
   ]
  },
  {
   "cell_type": "code",
   "execution_count": null,
   "metadata": {
    "collapsed": true
   },
   "outputs": [],
   "source": []
  }
 ],
 "metadata": {
  "kernelspec": {
   "display_name": "Python 3",
   "language": "python",
   "name": "python3"
  },
  "language_info": {
   "codemirror_mode": {
    "name": "ipython",
    "version": 3
   },
   "file_extension": ".py",
   "mimetype": "text/x-python",
   "name": "python",
   "nbconvert_exporter": "python",
   "pygments_lexer": "ipython3",
   "version": "3.7.1"
  }
 },
 "nbformat": 4,
 "nbformat_minor": 2
}
