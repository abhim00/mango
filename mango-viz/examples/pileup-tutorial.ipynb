{
 "cells": [
  {
   "cell_type": "code",
   "execution_count": 1,
   "metadata": {},
   "outputs": [],
   "source": [
    "################ For testing purposes only ################\n",
    "import os\n",
    "\n",
    "try:\n",
    "    testMode\n",
    "except NameError:\n",
    "    testMode = False\n",
    "\n",
    "try:\n",
    "    alignmentJsonFile\n",
    "except NameError:\n",
    "    # NOTE: this is for a local example. Based on file placement, you may have to change this path\n",
    "    alignmentJsonFile = os.path.join(os.getcwd(), \"data/alignments.ga4gh.chr17.1-250.json\")\n",
    "\n",
    "\n",
    "try:\n",
    "    vcfFile\n",
    "except NameError:\n",
    "    # NOTE: this is for a local example. Based on file placement, you may have to change this path\n",
    "    vcfFile = './data/genodata.v3.vcf'\n",
    "\n",
    "try:\n",
    "    bedFile\n",
    "except NameError:\n",
    "    # NOTE: this is for a local example. Based on file placement, you may have to change this path\n",
    "    bedFile = os.path.join(os.getcwd(), \"../../example-files/chr17.582500-594500.bed\")"
   ]
  },
  {
   "cell_type": "markdown",
   "metadata": {},
   "source": [
    "# Tutorial for pileup widget\n",
    "\n",
    "This tutorial demonstrates how to use the [pileup.js](https://github.com/hammerlab/pileup.js) widget in a Jupyter notebook.\n"
   ]
  },
  {
   "cell_type": "code",
   "execution_count": 2,
   "metadata": {
    "scrolled": false
   },
   "outputs": [],
   "source": [
    "# imports\n",
    "import bdgenomics.mango.pileup as pileup\n",
    "from bdgenomics.mango.pileup.track import *\n",
    "import modin.pandas as pd\n",
    "import pandas as opd"
   ]
  },
  {
   "cell_type": "markdown",
   "metadata": {},
   "source": [
    "## Pileup Example\n",
    "\n",
    "This example shows how to visualize alignments through a Jupyter widget."
   ]
  },
  {
   "cell_type": "code",
   "execution_count": 3,
   "metadata": {},
   "outputs": [
    {
     "name": "stderr",
     "output_type": "stream",
     "text": [
      "UserWarning: `read_json` only optimized with `lines=True` defaulting to pandas implementation.\n",
      "To request implementation, send an email to feature_requests@modin.org.\n",
      "UserWarning: `read_json` defaulting to pandas implementation.\n"
     ]
    }
   ],
   "source": [
    "# read in JSON\n",
    "readsJson = pd.read_json(alignmentJsonFile)"
   ]
  },
  {
   "cell_type": "code",
   "execution_count": 4,
   "metadata": {},
   "outputs": [
    {
     "name": "stderr",
     "output_type": "stream",
     "text": [
      "UserWarning: `DataFrame.to_json` defaulting to pandas implementation.\n"
     ]
    }
   ],
   "source": [
    "GA4GHAlignmentJson = readsJson.to_json()"
   ]
  },
  {
   "cell_type": "code",
   "execution_count": 5,
   "metadata": {},
   "outputs": [
    {
     "data": {
      "application/vnd.jupyter.widget-view+json": {
       "model_id": "a665e7285f3a4919bab23d1ac6d7788a",
       "version_major": 2,
       "version_minor": 0
      },
      "text/plain": [
       "A Jupyter Widget"
      ]
     },
     "metadata": {},
     "output_type": "display_data"
    }
   ],
   "source": [
    "# make pileup track\n",
    "tracks=[Track(viz=\"pileup\", label=\"my Reads\", source=pileup.sources.GA4GHAlignmentJson(GA4GHAlignmentJson))]\n",
    "\n",
    "# render tracks in widget\n",
    "reads = pileup.PileupViewer(locus=\"chr17:1-100\", reference=\"hg19\", tracks=tracks)\n",
    "reads\n"
   ]
  },
  {
   "cell_type": "markdown",
   "metadata": {},
   "source": [
    "## Variant Example\n",
    "\n",
    "This example shows how to visualize variants through a Jupyter widget."
   ]
  },
  {
   "cell_type": "code",
   "execution_count": 3,
   "metadata": {
    "scrolled": true
   },
   "outputs": [
    {
     "name": "stderr",
     "output_type": "stream",
     "text": [
      "UserWarning: Pandas doesn't allow columns to be created via a new attribute name - see https://pandas.pydata.org/pandas-docs/stable/indexing.html#attribute-access\n"
     ]
    }
   ],
   "source": [
    "variantData = read_vcf(vcfFile)"
   ]
  },
  {
   "cell_type": "code",
   "execution_count": 4,
   "metadata": {},
   "outputs": [
    {
     "data": {
      "text/html": [
       "<div>\n",
       "<style scoped>\n",
       "    .dataframe tbody tr th:only-of-type {\n",
       "        vertical-align: middle;\n",
       "    }\n",
       "\n",
       "    .dataframe tbody tr th {\n",
       "        vertical-align: top;\n",
       "    }\n",
       "\n",
       "    .dataframe thead th {\n",
       "        text-align: right;\n",
       "    }\n",
       "</style>\n",
       "<table border=\"1\" class=\"dataframe\">\n",
       "  <thead>\n",
       "    <tr style=\"text-align: right;\">\n",
       "      <th></th>\n",
       "      <th>CHROM</th>\n",
       "      <th>POS</th>\n",
       "      <th>ID</th>\n",
       "      <th>REF</th>\n",
       "      <th>ALT</th>\n",
       "      <th>QUAL</th>\n",
       "      <th>FILTER</th>\n",
       "      <th>INFO</th>\n",
       "      <th>FORMAT</th>\n",
       "      <th>1</th>\n",
       "      <th>...</th>\n",
       "      <th>90</th>\n",
       "      <th>91</th>\n",
       "      <th>92</th>\n",
       "      <th>93</th>\n",
       "      <th>94</th>\n",
       "      <th>95</th>\n",
       "      <th>96</th>\n",
       "      <th>97</th>\n",
       "      <th>98</th>\n",
       "      <th>99</th>\n",
       "    </tr>\n",
       "  </thead>\n",
       "  <tbody>\n",
       "    <tr>\n",
       "      <td>995</td>\n",
       "      <td>chr22</td>\n",
       "      <td>21337415</td>\n",
       "      <td>.</td>\n",
       "      <td>C</td>\n",
       "      <td>G</td>\n",
       "      <td>2679059.27</td>\n",
       "      <td>PASS</td>\n",
       "      <td>AC=3028;AF=1.00;AN=3028;BaseQRankSum=1.75;Clip...</td>\n",
       "      <td>GT:AD:DP:GQ:PGT:PID:PL</td>\n",
       "      <td>1/1:0,50:50:99:.:.:1672,150,0</td>\n",
       "      <td>...</td>\n",
       "      <td>1/1:0,73:73:99:.:.:2675,220,0</td>\n",
       "      <td>1/1:0,50:50:99:.:.:1761,150,0</td>\n",
       "      <td>1/1:0,109:109:99:.:.:3351,327,0</td>\n",
       "      <td>1/1:0,47:47:99:.:.:1461,141,0</td>\n",
       "      <td>1/1:0,29:29:87:.:.:1075,87,0</td>\n",
       "      <td>1/1:0,67:67:99:.:.:2294,201,0</td>\n",
       "      <td>1/1:0,78:78:99:.:.:2459,234,0</td>\n",
       "      <td>1/1:0,98:98:99:.:.:3324,294,0</td>\n",
       "      <td>1/1:0,58:58:99:.:.:1893,174,0</td>\n",
       "      <td>1/1:0,58:58:99:1|1:21337410_AG_A:1973,174,0</td>\n",
       "    </tr>\n",
       "    <tr>\n",
       "      <td>996</td>\n",
       "      <td>chr22</td>\n",
       "      <td>21339998</td>\n",
       "      <td>.</td>\n",
       "      <td>G</td>\n",
       "      <td>T</td>\n",
       "      <td>114.48</td>\n",
       "      <td>PASS</td>\n",
       "      <td>AC=1;AF=3.320e-04;AN=3012;BaseQRankSum=-1.109e...</td>\n",
       "      <td>GT:AD:DP:GQ:PL</td>\n",
       "      <td>0/0:10,0:10:30:0,30,326</td>\n",
       "      <td>...</td>\n",
       "      <td>0/0:36,0:36:99:0,103,1182</td>\n",
       "      <td>0/0:25,0:25:69:0,69,1035</td>\n",
       "      <td>0/0:5,0:5:12:0,12,180</td>\n",
       "      <td>0/0:4,0:4:12:0,12,141</td>\n",
       "      <td>0/0:7,0:7:21:0,21,253</td>\n",
       "      <td>0/0:9,0:9:27:0,27,308</td>\n",
       "      <td>0/0:5,0:5:15:0,15,169</td>\n",
       "      <td>0/0:8,0:8:21:0,21,315</td>\n",
       "      <td>0/0:3,0:3:9:0,9,116</td>\n",
       "      <td>0/0:9,0:9:27:0,27,317</td>\n",
       "    </tr>\n",
       "    <tr>\n",
       "      <td>997</td>\n",
       "      <td>chr22</td>\n",
       "      <td>21340025</td>\n",
       "      <td>.</td>\n",
       "      <td>C</td>\n",
       "      <td>T</td>\n",
       "      <td>350.56</td>\n",
       "      <td>PASS</td>\n",
       "      <td>AC=2;AF=6.614e-04;AN=3024;BaseQRankSum=1.04;Cl...</td>\n",
       "      <td>GT:AD:DP:GQ:PL</td>\n",
       "      <td>0/0:20,0:20:60:0,60,702</td>\n",
       "      <td>...</td>\n",
       "      <td>0/0:36,0:36:99:0,103,1182</td>\n",
       "      <td>0/0:26,0:26:57:0,57,911</td>\n",
       "      <td>0/0:9,0:9:27:0,27,324</td>\n",
       "      <td>0/0:7,0:7:21:0,21,265</td>\n",
       "      <td>0/0:15,0:15:45:0,45,559</td>\n",
       "      <td>0/0:17,0:17:51:0,51,636</td>\n",
       "      <td>0/0:8,0:8:24:0,24,297</td>\n",
       "      <td>0/0:20,0:20:60:0,60,789</td>\n",
       "      <td>0/0:7,0:7:21:0,21,264</td>\n",
       "      <td>0/0:15,0:15:42:0,42,630</td>\n",
       "    </tr>\n",
       "    <tr>\n",
       "      <td>998</td>\n",
       "      <td>chr22</td>\n",
       "      <td>21340030</td>\n",
       "      <td>.</td>\n",
       "      <td>A</td>\n",
       "      <td>G</td>\n",
       "      <td>1078.07</td>\n",
       "      <td>PASS</td>\n",
       "      <td>AC=4;AF=1.323e-03;AN=3024;BaseQRankSum=2.63;Cl...</td>\n",
       "      <td>GT:AD:DP:GQ:PL</td>\n",
       "      <td>0/0:20,0:20:60:0,60,702</td>\n",
       "      <td>...</td>\n",
       "      <td>0/0:36,0:36:99:0,103,1182</td>\n",
       "      <td>0/0:26,0:26:72:0,72,1080</td>\n",
       "      <td>0/0:10,0:10:27:0,27,405</td>\n",
       "      <td>0/0:10,0:10:30:0,30,326</td>\n",
       "      <td>0/0:17,0:17:51:0,51,639</td>\n",
       "      <td>0/0:19,0:19:54:0,54,810</td>\n",
       "      <td>0/0:10,0:10:30:0,30,376</td>\n",
       "      <td>0/0:20,0:20:60:0,60,789</td>\n",
       "      <td>0/0:8,0:8:24:0,24,301</td>\n",
       "      <td>0/0:18,0:18:51:0,51,765</td>\n",
       "    </tr>\n",
       "    <tr>\n",
       "      <td>999</td>\n",
       "      <td>chr22</td>\n",
       "      <td>21340088</td>\n",
       "      <td>.</td>\n",
       "      <td>T</td>\n",
       "      <td>C</td>\n",
       "      <td>916871.13</td>\n",
       "      <td>PASS</td>\n",
       "      <td>AC=1295;AF=0.428;AN=3028;BaseQRankSum=3.22;Cli...</td>\n",
       "      <td>GT:AD:DP:GQ:PGT:PID:PL</td>\n",
       "      <td>0/1:17,31:48:99:.:.:803,0,399</td>\n",
       "      <td>...</td>\n",
       "      <td>0/1:30,38:68:99:.:.:1150,0,766</td>\n",
       "      <td>0/0:37,0:37:99:.:.:0,99,1485</td>\n",
       "      <td>0/0:35,0:35:99:.:.:0,99,1198</td>\n",
       "      <td>1/1:0,25:25:75:.:.:839,75,0</td>\n",
       "      <td>0/1:21,21:42:99:.:.:670,0,557</td>\n",
       "      <td>0/0:34,0:34:99:.:.:0,99,1119</td>\n",
       "      <td>0/0:35,0:35:99:.:.:0,105,1053</td>\n",
       "      <td>0/0:34,0:34:99:.:.:0,99,1208</td>\n",
       "      <td>0/1:21,17:38:99:.:.:433,0,472</td>\n",
       "      <td>1/1:0,39:39:99:.:.:1309,117,0</td>\n",
       "    </tr>\n",
       "  </tbody>\n",
       "</table>\n",
       "<p>5 rows × 108 columns</p>\n",
       "</div>"
      ],
      "text/plain": [
       "     CHROM       POS ID REF ALT        QUAL FILTER  \\\n",
       "995  chr22  21337415  .   C   G  2679059.27   PASS   \n",
       "996  chr22  21339998  .   G   T      114.48   PASS   \n",
       "997  chr22  21340025  .   C   T      350.56   PASS   \n",
       "998  chr22  21340030  .   A   G     1078.07   PASS   \n",
       "999  chr22  21340088  .   T   C   916871.13   PASS   \n",
       "\n",
       "                                                  INFO  \\\n",
       "995  AC=3028;AF=1.00;AN=3028;BaseQRankSum=1.75;Clip...   \n",
       "996  AC=1;AF=3.320e-04;AN=3012;BaseQRankSum=-1.109e...   \n",
       "997  AC=2;AF=6.614e-04;AN=3024;BaseQRankSum=1.04;Cl...   \n",
       "998  AC=4;AF=1.323e-03;AN=3024;BaseQRankSum=2.63;Cl...   \n",
       "999  AC=1295;AF=0.428;AN=3028;BaseQRankSum=3.22;Cli...   \n",
       "\n",
       "                     FORMAT                              1  ...  \\\n",
       "995  GT:AD:DP:GQ:PGT:PID:PL  1/1:0,50:50:99:.:.:1672,150,0  ...   \n",
       "996          GT:AD:DP:GQ:PL        0/0:10,0:10:30:0,30,326  ...   \n",
       "997          GT:AD:DP:GQ:PL        0/0:20,0:20:60:0,60,702  ...   \n",
       "998          GT:AD:DP:GQ:PL        0/0:20,0:20:60:0,60,702  ...   \n",
       "999  GT:AD:DP:GQ:PGT:PID:PL  0/1:17,31:48:99:.:.:803,0,399  ...   \n",
       "\n",
       "                                 90                             91  \\\n",
       "995   1/1:0,73:73:99:.:.:2675,220,0  1/1:0,50:50:99:.:.:1761,150,0   \n",
       "996       0/0:36,0:36:99:0,103,1182       0/0:25,0:25:69:0,69,1035   \n",
       "997       0/0:36,0:36:99:0,103,1182        0/0:26,0:26:57:0,57,911   \n",
       "998       0/0:36,0:36:99:0,103,1182       0/0:26,0:26:72:0,72,1080   \n",
       "999  0/1:30,38:68:99:.:.:1150,0,766   0/0:37,0:37:99:.:.:0,99,1485   \n",
       "\n",
       "                                  92                             93  \\\n",
       "995  1/1:0,109:109:99:.:.:3351,327,0  1/1:0,47:47:99:.:.:1461,141,0   \n",
       "996            0/0:5,0:5:12:0,12,180          0/0:4,0:4:12:0,12,141   \n",
       "997            0/0:9,0:9:27:0,27,324          0/0:7,0:7:21:0,21,265   \n",
       "998          0/0:10,0:10:27:0,27,405        0/0:10,0:10:30:0,30,326   \n",
       "999     0/0:35,0:35:99:.:.:0,99,1198    1/1:0,25:25:75:.:.:839,75,0   \n",
       "\n",
       "                                94                             95  \\\n",
       "995   1/1:0,29:29:87:.:.:1075,87,0  1/1:0,67:67:99:.:.:2294,201,0   \n",
       "996          0/0:7,0:7:21:0,21,253          0/0:9,0:9:27:0,27,308   \n",
       "997        0/0:15,0:15:45:0,45,559        0/0:17,0:17:51:0,51,636   \n",
       "998        0/0:17,0:17:51:0,51,639        0/0:19,0:19:54:0,54,810   \n",
       "999  0/1:21,21:42:99:.:.:670,0,557   0/0:34,0:34:99:.:.:0,99,1119   \n",
       "\n",
       "                                96                             97  \\\n",
       "995  1/1:0,78:78:99:.:.:2459,234,0  1/1:0,98:98:99:.:.:3324,294,0   \n",
       "996          0/0:5,0:5:15:0,15,169          0/0:8,0:8:21:0,21,315   \n",
       "997          0/0:8,0:8:24:0,24,297        0/0:20,0:20:60:0,60,789   \n",
       "998        0/0:10,0:10:30:0,30,376        0/0:20,0:20:60:0,60,789   \n",
       "999  0/0:35,0:35:99:.:.:0,105,1053   0/0:34,0:34:99:.:.:0,99,1208   \n",
       "\n",
       "                                98  \\\n",
       "995  1/1:0,58:58:99:.:.:1893,174,0   \n",
       "996            0/0:3,0:3:9:0,9,116   \n",
       "997          0/0:7,0:7:21:0,21,264   \n",
       "998          0/0:8,0:8:24:0,24,301   \n",
       "999  0/1:21,17:38:99:.:.:433,0,472   \n",
       "\n",
       "                                              99  \n",
       "995  1/1:0,58:58:99:1|1:21337410_AG_A:1973,174,0  \n",
       "996                        0/0:9,0:9:27:0,27,317  \n",
       "997                      0/0:15,0:15:42:0,42,630  \n",
       "998                      0/0:18,0:18:51:0,51,765  \n",
       "999                1/1:0,39:39:99:.:.:1309,117,0  \n",
       "\n",
       "[5 rows x 108 columns]"
      ]
     },
     "execution_count": 4,
     "metadata": {},
     "output_type": "execute_result"
    }
   ],
   "source": [
    "variantData.tail()"
   ]
  },
  {
   "cell_type": "code",
   "execution_count": 6,
   "metadata": {},
   "outputs": [
    {
     "data": {
      "application/vnd.jupyter.widget-view+json": {
       "model_id": "b22a4c6cd5064854985f2d7a0ba08877",
       "version_major": 2,
       "version_minor": 0
      },
      "text/plain": [
       "A Jupyter Widget"
      ]
     },
     "metadata": {},
     "output_type": "display_data"
    }
   ],
   "source": [
    "# make variant track\n",
    "tracks=[Track(viz=\"variants\", label=\"my Variants\", source=pileup.sources.DataFrameSource(variantData))]\n",
    "\n",
    "# render tracks in widget\n",
    "variants = pileup.PileupViewer(locus=\"chr22:21000000-22000000\", reference=\"hg19\", tracks=tracks)\n",
    "variants"
   ]
  },
  {
   "cell_type": "code",
   "execution_count": 8,
   "metadata": {
    "scrolled": false
   },
   "outputs": [
    {
     "data": {
      "application/vnd.jupyter.widget-view+json": {
       "model_id": "7847342acedc487d8fd8c4e8773b7fde",
       "version_major": 2,
       "version_minor": 0
      },
      "text/plain": [
       "A Jupyter Widget"
      ]
     },
     "metadata": {},
     "output_type": "display_data"
    }
   ],
   "source": [
    "# make variant track\n",
    "tracks=[Track(viz=\"variants\", label=\"my Variants\", source=pileup.sources.VcfDataSource(vcfFile))]\n",
    "\n",
    "# render tracks in widget\n",
    "variants = pileup.PileupViewer(locus=\"chr22:21000000-22000000\", reference=\"hg19\", tracks=tracks)\n",
    "variants"
   ]
  },
  {
   "cell_type": "markdown",
   "metadata": {},
   "source": [
    "## Feature Example\n",
    "\n",
    "This example shows how to visualize features through a Jupyter widget."
   ]
  },
  {
   "cell_type": "code",
   "execution_count": 8,
   "metadata": {},
   "outputs": [
    {
     "name": "stderr",
     "output_type": "stream",
     "text": [
      "UserWarning: Pandas doesn't allow columns to be created via a new attribute name - see https://pandas.pydata.org/pandas-docs/stable/indexing.html#attribute-access\n"
     ]
    },
    {
     "data": {
      "text/html": [
       "<div>\n",
       "<style scoped>\n",
       "    .dataframe tbody tr th:only-of-type {\n",
       "        vertical-align: middle;\n",
       "    }\n",
       "\n",
       "    .dataframe tbody tr th {\n",
       "        vertical-align: top;\n",
       "    }\n",
       "\n",
       "    .dataframe thead th {\n",
       "        text-align: right;\n",
       "    }\n",
       "</style>\n",
       "<table border=\"1\" class=\"dataframe\">\n",
       "  <thead>\n",
       "    <tr style=\"text-align: right;\">\n",
       "      <th></th>\n",
       "      <th>chrom</th>\n",
       "      <th>chromStart</th>\n",
       "      <th>chromEnd</th>\n",
       "      <th>name</th>\n",
       "      <th>score</th>\n",
       "      <th>strand</th>\n",
       "      <th>thickStart</th>\n",
       "      <th>thickEnd</th>\n",
       "      <th>itemRGB</th>\n",
       "      <th>blockCount</th>\n",
       "      <th>blockSizes</th>\n",
       "      <th>blockStarts</th>\n",
       "    </tr>\n",
       "  </thead>\n",
       "  <tbody>\n",
       "    <tr>\n",
       "      <td>0</td>\n",
       "      <td>chr17</td>\n",
       "      <td>5821</td>\n",
       "      <td>31270</td>\n",
       "      <td>NaN</td>\n",
       "      <td>NaN</td>\n",
       "      <td>NaN</td>\n",
       "      <td>NaN</td>\n",
       "      <td>NaN</td>\n",
       "      <td>NaN</td>\n",
       "      <td>NaN</td>\n",
       "      <td>NaN</td>\n",
       "      <td>NaN</td>\n",
       "    </tr>\n",
       "    <tr>\n",
       "      <td>1</td>\n",
       "      <td>chr17</td>\n",
       "      <td>62296</td>\n",
       "      <td>202576</td>\n",
       "      <td>NaN</td>\n",
       "      <td>NaN</td>\n",
       "      <td>NaN</td>\n",
       "      <td>NaN</td>\n",
       "      <td>NaN</td>\n",
       "      <td>NaN</td>\n",
       "      <td>NaN</td>\n",
       "      <td>NaN</td>\n",
       "      <td>NaN</td>\n",
       "    </tr>\n",
       "    <tr>\n",
       "      <td>2</td>\n",
       "      <td>chr17</td>\n",
       "      <td>62296</td>\n",
       "      <td>202576</td>\n",
       "      <td>NaN</td>\n",
       "      <td>NaN</td>\n",
       "      <td>NaN</td>\n",
       "      <td>NaN</td>\n",
       "      <td>NaN</td>\n",
       "      <td>NaN</td>\n",
       "      <td>NaN</td>\n",
       "      <td>NaN</td>\n",
       "      <td>NaN</td>\n",
       "    </tr>\n",
       "    <tr>\n",
       "      <td>3</td>\n",
       "      <td>chr17</td>\n",
       "      <td>260433</td>\n",
       "      <td>264713</td>\n",
       "      <td>NaN</td>\n",
       "      <td>NaN</td>\n",
       "      <td>NaN</td>\n",
       "      <td>NaN</td>\n",
       "      <td>NaN</td>\n",
       "      <td>NaN</td>\n",
       "      <td>NaN</td>\n",
       "      <td>NaN</td>\n",
       "      <td>NaN</td>\n",
       "    </tr>\n",
       "    <tr>\n",
       "      <td>4</td>\n",
       "      <td>chr17</td>\n",
       "      <td>290007</td>\n",
       "      <td>295959</td>\n",
       "      <td>NaN</td>\n",
       "      <td>NaN</td>\n",
       "      <td>NaN</td>\n",
       "      <td>NaN</td>\n",
       "      <td>NaN</td>\n",
       "      <td>NaN</td>\n",
       "      <td>NaN</td>\n",
       "      <td>NaN</td>\n",
       "      <td>NaN</td>\n",
       "    </tr>\n",
       "  </tbody>\n",
       "</table>\n",
       "</div>"
      ],
      "text/plain": [
       "   chrom  chromStart  chromEnd  name  score  strand  thickStart  thickEnd  \\\n",
       "0  chr17        5821     31270   NaN    NaN     NaN         NaN       NaN   \n",
       "1  chr17       62296    202576   NaN    NaN     NaN         NaN       NaN   \n",
       "2  chr17       62296    202576   NaN    NaN     NaN         NaN       NaN   \n",
       "3  chr17      260433    264713   NaN    NaN     NaN         NaN       NaN   \n",
       "4  chr17      290007    295959   NaN    NaN     NaN         NaN       NaN   \n",
       "\n",
       "   itemRGB  blockCount  blockSizes  blockStarts  \n",
       "0      NaN         NaN         NaN          NaN  \n",
       "1      NaN         NaN         NaN          NaN  \n",
       "2      NaN         NaN         NaN          NaN  \n",
       "3      NaN         NaN         NaN          NaN  \n",
       "4      NaN         NaN         NaN          NaN  "
      ]
     },
     "execution_count": 8,
     "metadata": {},
     "output_type": "execute_result"
    }
   ],
   "source": [
    "featuresData = read_bed(bedFile)\n",
    "featuresData.head()"
   ]
  },
  {
   "cell_type": "code",
   "execution_count": 9,
   "metadata": {
    "scrolled": false
   },
   "outputs": [
    {
     "data": {
      "application/vnd.jupyter.widget-view+json": {
       "model_id": "3f4d09e415b44ca9903d4debc93236d3",
       "version_major": 2,
       "version_minor": 0
      },
      "text/plain": [
       "A Jupyter Widget"
      ]
     },
     "metadata": {},
     "output_type": "display_data"
    }
   ],
   "source": [
    "# make feature track\n",
    "tracks=[Track(viz=\"features\", label=\"my features\", source=pileup.sources.DataFrameSource(featuresData))]\n",
    "\n",
    "features = pileup.PileupViewer(locus=\"chr17:167398-461054\", reference=\"hg19\", tracks=tracks)\n",
    "features"
   ]
  },
  {
   "cell_type": "markdown",
   "metadata": {
    "collapsed": true
   },
   "source": [
    "## Genotype Example\n",
    "\n",
    "This example shows how to visualize genotypes through a Jupyter widget."
   ]
  },
  {
   "cell_type": "code",
   "execution_count": 5,
   "metadata": {},
   "outputs": [
    {
     "data": {
      "application/vnd.jupyter.widget-view+json": {
       "model_id": "70f5bb09692049d5915972b2f666d4ca",
       "version_major": 2,
       "version_minor": 0
      },
      "text/plain": [
       "A Jupyter Widget"
      ]
     },
     "metadata": {},
     "output_type": "display_data"
    }
   ],
   "source": [
    "# make genotype track\n",
    "tracks=[Track(viz=\"genotypes\", label=\"my Genotypes\", source=pileup.sources.DataFrameSource(variantData))]\n",
    "\n",
    "# render tracks in widget\n",
    "genotypes = pileup.PileupViewer(locus=\"chr22:21340030-21340150\", reference=\"hg19\", tracks=tracks)\n",
    "genotypes"
   ]
  },
  {
   "cell_type": "code",
   "execution_count": 12,
   "metadata": {},
   "outputs": [
    {
     "data": {
      "application/vnd.jupyter.widget-view+json": {
       "model_id": "b8603872db9647308dd5f2a2fd3504c1",
       "version_major": 2,
       "version_minor": 0
      },
      "text/plain": [
       "A Jupyter Widget"
      ]
     },
     "metadata": {},
     "output_type": "display_data"
    }
   ],
   "source": [
    "# make genotype track\n",
    "tracks=[Track(viz=\"genotypes\", label=\"my Genotypes\", source=pileup.sources.VcfDataSource(vcfFile))]\n",
    "\n",
    "# render tracks in widget\n",
    "genotypes = pileup.PileupViewer(locus=\"chr22:21340030-21340150\", reference=\"hg19\", tracks=tracks)\n",
    "genotypes"
   ]
  },
  {
   "cell_type": "code",
   "execution_count": null,
   "metadata": {
    "collapsed": true
   },
   "outputs": [],
   "source": []
  }
 ],
 "metadata": {
  "kernelspec": {
   "display_name": "Python 3",
   "language": "python",
   "name": "python3"
  },
  "language_info": {
   "codemirror_mode": {
    "name": "ipython",
    "version": 3
   },
   "file_extension": ".py",
   "mimetype": "text/x-python",
   "name": "python",
   "nbconvert_exporter": "python",
   "pygments_lexer": "ipython3",
   "version": "3.7.1"
  }
 },
 "nbformat": 4,
 "nbformat_minor": 2
}
